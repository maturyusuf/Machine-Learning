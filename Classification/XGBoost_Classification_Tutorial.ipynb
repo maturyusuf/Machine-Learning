{
  "nbformat": 4,
  "nbformat_minor": 0,
  "metadata": {
    "colab": {
      "provenance": []
    },
    "kernelspec": {
      "name": "python3",
      "display_name": "Python 3"
    },
    "language_info": {
      "name": "python"
    }
  },
  "cells": [
    {
      "cell_type": "code",
      "source": [
        "import pandas as pd\n",
        "import numpy as np\n",
        "\n",
        "from sklearn.model_selection import train_test_split, GridSearchCV, cross_val_score\n",
        "from sklearn.metrics import mean_squared_error, r2_score,accuracy_score, confusion_matrix, r2_score, roc_auc_score, roc_curve,classification_report\n",
        "\n",
        "\n",
        "\n",
        "import matplotlib.pyplot as plt\n",
        "from sklearn.preprocessing import scale\n",
        "from sklearn.preprocessing import StandardScaler\n",
        "from sklearn import model_selection\n",
        "from sklearn.linear_model import LogisticRegression\n",
        "\n",
        "from sklearn.neighbors import KNeighborsRegressor\n",
        "from sklearn.neighbors import KNeighborsClassifier\n",
        "\n",
        "from sklearn.neural_network import MLPRegressor\n",
        "from sklearn.neural_network import MLPClassifier\n",
        "\n",
        "from sklearn import neighbors\n",
        "from sklearn.svm import SVR\n",
        "\n",
        "from sklearn.ensemble import GradientBoostingClassifier\n",
        "\n",
        "from warnings import filterwarnings\n",
        "filterwarnings(\"ignore\")\n",
        "\n",
        "from xgboost import XGBClassifier"
      ],
      "metadata": {
        "id": "rmENUmalQYtv"
      },
      "execution_count": 4,
      "outputs": []
    },
    {
      "cell_type": "code",
      "source": [
        "df = pd.read_csv(\"/content/diabetes.csv\")\n",
        "df.head()\n",
        "X=df.drop(columns=[\"Outcome\"])\n",
        "y = df[\"Outcome\"]\n",
        "X_train,X_test,y_train,y_test=train_test_split(X,y,test_size=0.20,random_state=42)"
      ],
      "metadata": {
        "id": "0CWvD_FLQigh"
      },
      "execution_count": 3,
      "outputs": []
    },
    {
      "cell_type": "markdown",
      "source": [],
      "metadata": {
        "id": "UgksHZjKYRHf"
      }
    },
    {
      "cell_type": "code",
      "source": [
        "xgb_model = XGBClassifier().fit(X_train,y_train)"
      ],
      "metadata": {
        "id": "Vm4ddkYeYQpg"
      },
      "execution_count": 5,
      "outputs": []
    },
    {
      "cell_type": "code",
      "source": [
        "?xgb_model"
      ],
      "metadata": {
        "id": "qFj0Op2vYlSm"
      },
      "execution_count": 14,
      "outputs": []
    },
    {
      "cell_type": "code",
      "source": [
        "y_prd = xgb_model.predict(X_test)\n",
        "accuracy_score(y_test,y_prd)"
      ],
      "metadata": {
        "colab": {
          "base_uri": "https://localhost:8080/"
        },
        "id": "wFthH2sHYnPH",
        "outputId": "11ff154f-b122-4fac-b08d-b6bb8cadd981"
      },
      "execution_count": 13,
      "outputs": [
        {
          "output_type": "execute_result",
          "data": {
            "text/plain": [
              "0.6883116883116883"
            ]
          },
          "metadata": {},
          "execution_count": 13
        }
      ]
    },
    {
      "cell_type": "code",
      "source": [
        "# Model Tunning\n",
        "\n",
        "xgb_params = {\"n_estimators\":[100,500,1000],\n",
        "              \"subsample\":[0.6,0.8,1],\n",
        "              \"max_depth\":[3,5,7],\n",
        "              \"learning_rate\":[0.1,0.001,0.01]}\n",
        "\n",
        "xgb_cv_model = GridSearchCV(xgb_model,xgb_params,cv = 10,n_jobs=-1,verbose=2).fit(X_train,y_train) #Takes too much time :/"
      ],
      "metadata": {
        "id": "8F1sq05QYyIm"
      },
      "execution_count": null,
      "outputs": []
    },
    {
      "cell_type": "code",
      "source": [
        "xgb_cv_model.best_params_ "
      ],
      "metadata": {
        "id": "rmt1_uzoZR8G"
      },
      "execution_count": null,
      "outputs": []
    },
    {
      "cell_type": "code",
      "source": [
        "xgb_tuned = XGBClassifier(learning_rate=0.001,\n",
        "                          max_depth=7,\n",
        "                          n_estimators=500,\n",
        "                          subsample=0.6)"
      ],
      "metadata": {
        "id": "JWG1d7rDZTwQ"
      },
      "execution_count": 16,
      "outputs": []
    },
    {
      "cell_type": "code",
      "source": [
        "xgb_tuned_model = xgb_tuned.fit(X_train,y_train)\n",
        "y_pred = xgb_tuned_model.predict(X_test)\n",
        "accuracy_score(y_pred,y_test)"
      ],
      "metadata": {
        "colab": {
          "base_uri": "https://localhost:8080/"
        },
        "id": "qguEobqmaGn-",
        "outputId": "c3685173-59d4-4b26-88a1-2994279ca8f6"
      },
      "execution_count": 17,
      "outputs": [
        {
          "output_type": "execute_result",
          "data": {
            "text/plain": [
              "0.7662337662337663"
            ]
          },
          "metadata": {},
          "execution_count": 17
        }
      ]
    },
    {
      "cell_type": "code",
      "source": [
        "plt.barh(X_train.columns,xgb_tuned_model.feature_importances_,color=[\"r\",\"b\",\"green\",\"g\",\"r\",\"b\",\"yellow\",\"green\"])\n",
        "plt.xlabel(\"Feature Importance\")\n",
        "plt.ylabel(\"Features\")\n",
        "plt.legend()\n",
        "plt.tight_layout()\n",
        "plt.show()"
      ],
      "metadata": {
        "colab": {
          "base_uri": "https://localhost:8080/",
          "height": 525
        },
        "id": "AezzITYnaTOO",
        "outputId": "937bfdc2-6317-4374-b687-5d4301edd0d8"
      },
      "execution_count": 26,
      "outputs": [
        {
          "output_type": "stream",
          "name": "stderr",
          "text": [
            "WARNING:matplotlib.legend:No artists with labels found to put in legend.  Note that artists whose label start with an underscore are ignored when legend() is called with no argument.\n"
          ]
        },
        {
          "output_type": "display_data",
          "data": {
            "text/plain": [
              "<Figure size 640x480 with 1 Axes>"
            ],
            "image/png": "[encoded data removed]"
          },
          "metadata": {}
        }
      ]
    },
    {
      "cell_type": "code",
      "source": [],
      "metadata": {
        "id": "KvD-b28Ra-ql"
      },
      "execution_count": null,
      "outputs": []
    }
  ]
}