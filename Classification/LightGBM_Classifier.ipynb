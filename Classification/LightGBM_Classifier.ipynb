{
  "nbformat": 4,
  "nbformat_minor": 0,
  "metadata": {
    "colab": {
      "provenance": []
    },
    "kernelspec": {
      "name": "python3",
      "display_name": "Python 3"
    },
    "language_info": {
      "name": "python"
    }
  },
  "cells": [
    {
      "cell_type": "code",
      "source": [
        "import pandas as pd\n",
        "import numpy as np\n",
        "\n",
        "from sklearn.model_selection import train_test_split, GridSearchCV, cross_val_score\n",
        "from sklearn.metrics import mean_squared_error, r2_score,accuracy_score, confusion_matrix, r2_score, roc_auc_score, roc_curve,classification_report\n",
        "\n",
        "\n",
        "\n",
        "import matplotlib.pyplot as plt\n",
        "from sklearn.preprocessing import scale\n",
        "from sklearn.preprocessing import StandardScaler\n",
        "from sklearn import model_selection\n",
        "from sklearn.linear_model import LogisticRegression\n",
        "\n",
        "from sklearn.neighbors import KNeighborsRegressor\n",
        "from sklearn.neighbors import KNeighborsClassifier\n",
        "\n",
        "from sklearn.neural_network import MLPRegressor\n",
        "from sklearn.neural_network import MLPClassifier\n",
        "\n",
        "from sklearn import neighbors\n",
        "from sklearn.svm import SVR\n",
        "\n",
        "from sklearn.ensemble import GradientBoostingClassifier\n",
        "\n",
        "from warnings import filterwarnings\n",
        "filterwarnings(\"ignore\")\n",
        "\n",
        "from xgboost import XGBClassifier"
      ],
      "metadata": {
        "id": "rmENUmalQYtv"
      },
      "execution_count": 4,
      "outputs": []
    },
    {
      "cell_type": "code",
      "source": [
        "df = pd.read_csv(\"/content/diabetes.csv\")\n",
        "df.head()\n",
        "X=df.drop(columns=[\"Outcome\"])\n",
        "y = df[\"Outcome\"]\n",
        "X_train,X_test,y_train,y_test=train_test_split(X,y,test_size=0.20,random_state=42)"
      ],
      "metadata": {
        "id": "0CWvD_FLQigh"
      },
      "execution_count": 3,
      "outputs": []
    },
    {
      "cell_type": "markdown",
      "source": [
        "**Model & Prediction**"
      ],
      "metadata": {
        "id": "GuvOv6VJcimJ"
      }
    },
    {
      "cell_type": "code",
      "source": [
        "from lightgbm import LGBMClassifier"
      ],
      "metadata": {
        "id": "bBucFCxGcl43"
      },
      "execution_count": 27,
      "outputs": []
    },
    {
      "cell_type": "code",
      "source": [
        "lgbm_model=LGBMClassifier().fit(X_train,y_train)\n",
        "?lgbm_model"
      ],
      "metadata": {
        "id": "qLbJ_Ru0cqEn"
      },
      "execution_count": 28,
      "outputs": []
    },
    {
      "cell_type": "code",
      "source": [
        "y_pred = lgbm_model.predict(X_test)\n",
        "accuracy_score(y_pred,y_test)"
      ],
      "metadata": {
        "colab": {
          "base_uri": "https://localhost:8080/"
        },
        "id": "aOkjSMhdcyGM",
        "outputId": "47f355b5-1e87-4f12-f2b3-3a3397c23346"
      },
      "execution_count": 31,
      "outputs": [
        {
          "output_type": "execute_result",
          "data": {
            "text/plain": [
              "0.7207792207792207"
            ]
          },
          "metadata": {},
          "execution_count": 31
        }
      ]
    },
    {
      "cell_type": "markdown",
      "source": [
        "**Model Tuning**"
      ],
      "metadata": {
        "id": "TJW2RQwDdWpS"
      }
    },
    {
      "cell_type": "code",
      "source": [
        "lgbm = LGBMClassifier()\n",
        "lgbm_params= {\"learning_rate\":[0.001,0.01,0.1],\n",
        "              \"n_estimators\":[200,500,100],\n",
        "              \"max_depth\":[1,2,35,8]}"
      ],
      "metadata": {
        "id": "qVWodvMadZmV"
      },
      "execution_count": 33,
      "outputs": []
    },
    {
      "cell_type": "code",
      "source": [
        "lgbm_cv_model = GridSearchCV(lgbm,lgbm_params,cv=10,n_jobs=-1,verbose=2).fit(X_train,y_train)"
      ],
      "metadata": {
        "colab": {
          "base_uri": "https://localhost:8080/"
        },
        "id": "C-hOucFkdRLl",
        "outputId": "861869dd-2966-44bd-b890-f4c71210d877"
      },
      "execution_count": 34,
      "outputs": [
        {
          "output_type": "stream",
          "name": "stdout",
          "text": [
            "Fitting 10 folds for each of 36 candidates, totalling 360 fits\n"
          ]
        }
      ]
    },
    {
      "cell_type": "code",
      "source": [
        "lgbm_cv_model.best_params_"
      ],
      "metadata": {
        "colab": {
          "base_uri": "https://localhost:8080/"
        },
        "id": "Agc9oHXKeEML",
        "outputId": "c895333d-05f2-4c53-c921-4c5456fab9c0"
      },
      "execution_count": 36,
      "outputs": [
        {
          "output_type": "execute_result",
          "data": {
            "text/plain": [
              "{'learning_rate': 0.01, 'max_depth': 2, 'n_estimators': 500}"
            ]
          },
          "metadata": {},
          "execution_count": 36
        }
      ]
    },
    {
      "cell_type": "code",
      "source": [
        "lgbm_tuned = LGBMClassifier(learning_Rate=0.01,\n",
        "                            max_depth=2,\n",
        "                            n_estimators=500).fit(X_train,y_train)\n",
        "y_pred = lgbm_tuned.predict(X_test)                            "
      ],
      "metadata": {
        "id": "tDFw9YC3ePWu"
      },
      "execution_count": 37,
      "outputs": []
    },
    {
      "cell_type": "code",
      "source": [
        "accuracy_score(y_pred,y_test)"
      ],
      "metadata": {
        "colab": {
          "base_uri": "https://localhost:8080/"
        },
        "id": "GQJFkPVEedcJ",
        "outputId": "b5ae64a8-d891-419b-8c96-981de4cb6d01"
      },
      "execution_count": 38,
      "outputs": [
        {
          "output_type": "execute_result",
          "data": {
            "text/plain": [
              "0.7597402597402597"
            ]
          },
          "metadata": {},
          "execution_count": 38
        }
      ]
    },
    {
      "cell_type": "code",
      "source": [
        "plt.barh(X_train.columns,lgbm_tuned.feature_importances_)\n",
        "plt.xlabel(\"Feature Importances\")\n",
        "plt.ylabel(\"Features\")\n",
        "plt.legend()\n",
        "plt.tight_layout()\n",
        "plt.show()"
      ],
      "metadata": {
        "colab": {
          "base_uri": "https://localhost:8080/",
          "height": 525
        },
        "id": "kwlTKkMdegfh",
        "outputId": "955a4979-ae86-4340-f61f-94874c683e7c"
      },
      "execution_count": 40,
      "outputs": [
        {
          "output_type": "stream",
          "name": "stderr",
          "text": [
            "WARNING:matplotlib.legend:No artists with labels found to put in legend.  Note that artists whose label start with an underscore are ignored when legend() is called with no argument.\n"
          ]
        },
        {
          "output_type": "display_data",
          "data": {
            "text/plain": [
              "<Figure size 640x480 with 1 Axes>"
            ],
            "image/png": "[encoded data removed]"
          },
          "metadata": {}
        }
      ]
    },
    {
      "cell_type": "code",
      "source": [],
      "metadata": {
        "id": "1z3aM9rse8pK"
      },
      "execution_count": null,
      "outputs": []
    }
  ]
}