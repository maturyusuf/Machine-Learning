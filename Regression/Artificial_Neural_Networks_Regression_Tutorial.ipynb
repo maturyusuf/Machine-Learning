{
  "nbformat": 4,
  "nbformat_minor": 0,
  "metadata": {
    "colab": {
      "provenance": []
    },
    "kernelspec": {
      "name": "python3",
      "display_name": "Python 3"
    },
    "language_info": {
      "name": "python"
    }
  },
  "cells": [
    {
      "cell_type": "code",
      "execution_count": 2,
      "metadata": {
        "id": "BPSDYXC-Az_5"
      },
      "outputs": [],
      "source": [
        "import pandas as pd\n",
        "import numpy as np\n",
        "\n",
        "from sklearn.model_selection import train_test_split, GridSearchCV\n",
        "from sklearn.metrics import mean_squared_error, r2_score\n",
        "import matplotlib.pyplot as plt\n",
        "from sklearn.preprocessing import scale\n",
        "from sklearn.preprocessing import StandardScaler\n",
        "from sklearn import model_selection\n",
        "from sklearn.neighbors import KNeighborsRegressor\n",
        "from sklearn.neural_network import MLPRegressor\n",
        "from sklearn import neighbors\n",
        "from sklearn.svm import SVR\n",
        "\n",
        "from warnings import filterwarnings\n",
        "filterwarnings(\"ignore\")\n"
      ]
    },
    {
      "cell_type": "code",
      "source": [
        "df = pd.read_csv(\"/content/Hitters.csv\")\n",
        "df = df.dropna()\n",
        "dms = pd.get_dummies(df[[\"League\",\"Division\",\"NewLeague\"]])\n",
        "y = df[\"Salary\"]\n",
        "X_ = df.drop([\"Salary\",\"League\",\"Division\",\"NewLeague\"],axis=1).astype(\"float64\")\n",
        "X  = pd.concat([X_, dms[[\"League_N\",\"Division_W\",\"NewLeague_N\"]]],axis=1)\n",
        "X_train,X_test,y_train,y_test=train_test_split(X,y,test_size=0.25,random_state=50)\n"
      ],
      "metadata": {
        "id": "ygdctZ7cA8jR"
      },
      "execution_count": 38,
      "outputs": []
    },
    {
      "cell_type": "code",
      "source": [
        "scaler = StandardScaler()\n",
        "scaler.fit(X_train)\n",
        "X_train_scaled = scaler.transform(X_train)\n",
        "X_test_scaled = scaler.transform(X_test)"
      ],
      "metadata": {
        "id": "wtnMmMylDVRe"
      },
      "execution_count": 39,
      "outputs": []
    },
    {
      "cell_type": "code",
      "source": [
        "mlp_model = MLPRegressor().fit(X_train,y_train)   # activation function : relu (default)"
      ],
      "metadata": {
        "id": "wBZghHPVDmxI"
      },
      "execution_count": 40,
      "outputs": []
    },
    {
      "cell_type": "code",
      "source": [
        "y_pred=mlp_model.predict(X_test)\n",
        "\n",
        "rmse=np.sqrt(mean_squared_error(y_pred,y_test))\n",
        "rmse\n"
      ],
      "metadata": {
        "colab": {
          "base_uri": "https://localhost:8080/"
        },
        "id": "gvV2ISz1EIW3",
        "outputId": "4dbb234b-f401-4ac1-9be4-2b36d5170c46"
      },
      "execution_count": 41,
      "outputs": [
        {
          "output_type": "execute_result",
          "data": {
            "text/plain": [
              "325.22201013532595"
            ]
          },
          "metadata": {},
          "execution_count": 41
        }
      ]
    },
    {
      "cell_type": "code",
      "source": [
        "# MODEL TUNING\n",
        "mlp_params={\"alpha\":[0.1,0.01,0.02,0.001,0.0001],\n",
        "            \"hidden_layer_sizes\": [(10,20),(5,5),(100,100)]}  #(layer num,neuron num)\n",
        "\n",
        "mlp_cv_model=GridSearchCV(mlp_model,mlp_params,cv=5,verbose=2,n_jobs=-1).fit(X_train_scaled,y_train,)"
      ],
      "metadata": {
        "colab": {
          "base_uri": "https://localhost:8080/"
        },
        "id": "92kT7ZulEbra",
        "outputId": "eb4a27b5-d2fe-489d-9dfe-7486ebbdd649"
      },
      "execution_count": 42,
      "outputs": [
        {
          "output_type": "stream",
          "name": "stdout",
          "text": [
            "Fitting 5 folds for each of 15 candidates, totalling 75 fits\n"
          ]
        }
      ]
    },
    {
      "cell_type": "code",
      "source": [
        "mlp_cv_model.best_params_"
      ],
      "metadata": {
        "colab": {
          "base_uri": "https://localhost:8080/"
        },
        "id": "BonqQv_AFRju",
        "outputId": "d167d797-0848-4e57-a777-8c4607a77dc0"
      },
      "execution_count": 43,
      "outputs": [
        {
          "output_type": "execute_result",
          "data": {
            "text/plain": [
              "{'alpha': 0.1, 'hidden_layer_sizes': (100, 100)}"
            ]
          },
          "metadata": {},
          "execution_count": 43
        }
      ]
    },
    {
      "cell_type": "code",
      "source": [
        "tuned_model = MLPRegressor(alpha=0.1,hidden_layer_sizes=(100,100)).fit(X_train_scaled,y_train)"
      ],
      "metadata": {
        "id": "yGb-DJ2tFgq3"
      },
      "execution_count": 44,
      "outputs": []
    },
    {
      "cell_type": "code",
      "source": [
        "y_pred = tuned_model.predict(X_test_scaled)\n",
        "rmse = np.sqrt(mean_squared_error(y_pred,y_test))"
      ],
      "metadata": {
        "id": "rXn7FolXFyRw"
      },
      "execution_count": 45,
      "outputs": []
    },
    {
      "cell_type": "code",
      "source": [
        "rmse"
      ],
      "metadata": {
        "colab": {
          "base_uri": "https://localhost:8080/"
        },
        "id": "iHvHsFxOGl_p",
        "outputId": "26fc877b-df81-4d9d-9790-e3f264bdae04"
      },
      "execution_count": 46,
      "outputs": [
        {
          "output_type": "execute_result",
          "data": {
            "text/plain": [
              "385.5019737430032"
            ]
          },
          "metadata": {},
          "execution_count": 46
        }
      ]
    },
    {
      "cell_type": "code",
      "source": [
        "# Our tuned model is not as efficient as the default model"
      ],
      "metadata": {
        "id": "qEGUakssGrp6"
      },
      "execution_count": null,
      "outputs": []
    }
  ]
}