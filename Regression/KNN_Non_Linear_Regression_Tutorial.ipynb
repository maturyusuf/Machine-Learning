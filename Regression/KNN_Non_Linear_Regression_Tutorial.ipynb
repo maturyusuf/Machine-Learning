{
  "nbformat": 4,
  "nbformat_minor": 0,
  "metadata": {
    "colab": {
      "provenance": []
    },
    "kernelspec": {
      "name": "python3",
      "display_name": "Python 3"
    },
    "language_info": {
      "name": "python"
    }
  },
  "cells": [
    {
      "cell_type": "markdown",
      "source": [
        "#Non Linear Regression Models\n",
        "\n",
        "\n",
        "*   K-Nearest Neighbor\n",
        "*   Support Vector Regression\n",
        "*   Artificial Neural Networks\n",
        "*   CART(Classification & Regression Tree)\n",
        "*   Random Forests\n",
        "*   Gradient Boosting Machines\n",
        "*   XGBoost\n",
        "*   Light GBM\n",
        "*   CatBoost\n"
      ],
      "metadata": {
        "id": "yMlqTXwWX9wq"
      }
    },
    {
      "cell_type": "code",
      "source": [
        "import pandas as pd\n",
        "import numpy as np\n",
        "\n",
        "from sklearn.model_selection import train_test_split, GridSearchCV\n",
        "from sklearn.metrics import mean_squared_error, r2_score\n",
        "import matplotlib.pyplot as plt\n",
        "from sklearn.preprocessing import scale\n",
        "from sklearn.preprocessing import StandardScaler\n",
        "from sklearn import model_selection\n",
        "from sklearn.neighbors import KNeighborsRegressor\n",
        "from sklearn.neural_network import MLPRegressor\n",
        "from sklearn import neighbors\n",
        "\n",
        "from warnings import filterwarnings\n",
        "filterwarnings(\"ignore\")"
      ],
      "metadata": {
        "id": "oegP8fbnYaGS"
      },
      "execution_count": 1,
      "outputs": []
    },
    {
      "cell_type": "markdown",
      "source": [
        "# K-Nearest Neighbor\n",
        "\n",
        "It simply based on the calculation of difference between the given X values and every sample of data\n",
        "For example let's say we indicated X1 and X2.Now we compare every X1 data in the dataset against our determined X1 data and same applies to X2.We calculate the difference via distance calculation methods like Euclidean Distance Formula.Then we select nearest samples.\n",
        "\n",
        "Steps:\n",
        "- Determine neighbor number (K)\n",
        "- Calculate distance between the unknown spot and all spots\n",
        "- Sort the distances and select the nearest samples determined as k number\n",
        "- For Classification problems: give the Most often class\n",
        "  For Regression: give Mean value as prediction value "
      ],
      "metadata": {
        "id": "xY-dqk2KcJ4a"
      }
    },
    {
      "cell_type": "code",
      "source": [
        "import pandas as pd\n",
        "from sklearn.model_selection import train_test_split\n",
        "\n",
        "df = pd.read_csv(\"/content/Hitters.csv\")\n",
        "df.dropna(inplace=True)\n",
        "dms = pd.get_dummies(df[[\"League\",\"Division\",\"NewLeague\"]]) # One hot encoding\n",
        "y = df[\"Salary\"]\n",
        "X_= df.drop(columns=[\"League\",\"Division\",\"NewLeague\"],axis=1).astype(float)\n",
        "X = pd.concat(objs=[X_,dms[[\"League_N\",\"Division_W\",\"NewLeague_N\"]]],axis=1)\n",
        "X_train,X_test,y_train,y_test=train_test_split(X,y,test_size=0.25,random_state=50)"
      ],
      "metadata": {
        "id": "JIXEi13GcFNN"
      },
      "execution_count": 2,
      "outputs": []
    },
    {
      "cell_type": "code",
      "source": [
        "X_train.head()"
      ],
      "metadata": {
        "colab": {
          "base_uri": "https://localhost:8080/",
          "height": 250
        },
        "id": "enXuFNy1cOYm",
        "outputId": "108e010b-4d55-458c-e161-a1570202fd65"
      },
      "execution_count": 3,
      "outputs": [
        {
          "output_type": "execute_result",
          "data": {
            "text/plain": [
              "     AtBat   Hits  HmRun  Runs   RBI  Walks  Years  CAtBat   CHits  CHmRun  \\\n",
              "189  484.0  127.0   20.0  66.0  65.0   67.0    7.0  3006.0   844.0   116.0   \n",
              "13   239.0   60.0    0.0  30.0  11.0   22.0    6.0  1941.0   510.0     4.0   \n",
              "306  127.0   32.0    4.0  14.0  25.0   12.0   19.0  8396.0  2402.0   242.0   \n",
              "110  441.0  128.0   16.0  70.0  73.0   80.0   14.0  6675.0  2095.0   209.0   \n",
              "164  257.0   66.0    5.0  31.0  26.0   32.0   14.0  3910.0   979.0    33.0   \n",
              "\n",
              "      CRuns    CRBI  CWalks  PutOuts  Assists  Errors    Salary  League_N  \\\n",
              "189   436.0   458.0   377.0   1231.0     80.0     7.0  1183.333         1   \n",
              "13    309.0   103.0   207.0    121.0    151.0     6.0   700.000         0   \n",
              "306  1048.0  1348.0   819.0    167.0     18.0     6.0   500.000         1   \n",
              "110  1072.0  1050.0   695.0     97.0    218.0    16.0  1500.000         0   \n",
              "164   518.0   324.0   382.0     87.0    166.0    14.0   250.000         1   \n",
              "\n",
              "     Division_W  NewLeague_N  \n",
              "189           0            1  \n",
              "13            0            0  \n",
              "306           1            1  \n",
              "110           1            0  \n",
              "164           1            0  "
            ],
            "text/html": [
              "\n",
              "  <div id=\"df-386f5772-8525-4034-87d2-b73a2186d1d9\">\n",
              "    <div class=\"colab-df-container\">\n",
              "      <div>\n",
              "<style scoped>\n",
              "    .dataframe tbody tr th:only-of-type {\n",
              "        vertical-align: middle;\n",
              "    }\n",
              "\n",
              "    .dataframe tbody tr th {\n",
              "        vertical-align: top;\n",
              "    }\n",
              "\n",
              "    .dataframe thead th {\n",
              "        text-align: right;\n",
              "    }\n",
              "</style>\n",
              "<table border=\"1\" class=\"dataframe\">\n",
              "  <thead>\n",
              "    <tr style=\"text-align: right;\">\n",
              "      <th></th>\n",
              "      <th>AtBat</th>\n",
              "      <th>Hits</th>\n",
              "      <th>HmRun</th>\n",
              "      <th>Runs</th>\n",
              "      <th>RBI</th>\n",
              "      <th>Walks</th>\n",
              "      <th>Years</th>\n",
              "      <th>CAtBat</th>\n",
              "      <th>CHits</th>\n",
              "      <th>CHmRun</th>\n",
              "      <th>CRuns</th>\n",
              "      <th>CRBI</th>\n",
              "      <th>CWalks</th>\n",
              "      <th>PutOuts</th>\n",
              "      <th>Assists</th>\n",
              "      <th>Errors</th>\n",
              "      <th>Salary</th>\n",
              "      <th>League_N</th>\n",
              "      <th>Division_W</th>\n",
              "      <th>NewLeague_N</th>\n",
              "    </tr>\n",
              "  </thead>\n",
              "  <tbody>\n",
              "    <tr>\n",
              "      <th>189</th>\n",
              "      <td>484.0</td>\n",
              "      <td>127.0</td>\n",
              "      <td>20.0</td>\n",
              "      <td>66.0</td>\n",
              "      <td>65.0</td>\n",
              "      <td>67.0</td>\n",
              "      <td>7.0</td>\n",
              "      <td>3006.0</td>\n",
              "      <td>844.0</td>\n",
              "      <td>116.0</td>\n",
              "      <td>436.0</td>\n",
              "      <td>458.0</td>\n",
              "      <td>377.0</td>\n",
              "      <td>1231.0</td>\n",
              "      <td>80.0</td>\n",
              "      <td>7.0</td>\n",
              "      <td>1183.333</td>\n",
              "      <td>1</td>\n",
              "      <td>0</td>\n",
              "      <td>1</td>\n",
              "    </tr>\n",
              "    <tr>\n",
              "      <th>13</th>\n",
              "      <td>239.0</td>\n",
              "      <td>60.0</td>\n",
              "      <td>0.0</td>\n",
              "      <td>30.0</td>\n",
              "      <td>11.0</td>\n",
              "      <td>22.0</td>\n",
              "      <td>6.0</td>\n",
              "      <td>1941.0</td>\n",
              "      <td>510.0</td>\n",
              "      <td>4.0</td>\n",
              "      <td>309.0</td>\n",
              "      <td>103.0</td>\n",
              "      <td>207.0</td>\n",
              "      <td>121.0</td>\n",
              "      <td>151.0</td>\n",
              "      <td>6.0</td>\n",
              "      <td>700.000</td>\n",
              "      <td>0</td>\n",
              "      <td>0</td>\n",
              "      <td>0</td>\n",
              "    </tr>\n",
              "    <tr>\n",
              "      <th>306</th>\n",
              "      <td>127.0</td>\n",
              "      <td>32.0</td>\n",
              "      <td>4.0</td>\n",
              "      <td>14.0</td>\n",
              "      <td>25.0</td>\n",
              "      <td>12.0</td>\n",
              "      <td>19.0</td>\n",
              "      <td>8396.0</td>\n",
              "      <td>2402.0</td>\n",
              "      <td>242.0</td>\n",
              "      <td>1048.0</td>\n",
              "      <td>1348.0</td>\n",
              "      <td>819.0</td>\n",
              "      <td>167.0</td>\n",
              "      <td>18.0</td>\n",
              "      <td>6.0</td>\n",
              "      <td>500.000</td>\n",
              "      <td>1</td>\n",
              "      <td>1</td>\n",
              "      <td>1</td>\n",
              "    </tr>\n",
              "    <tr>\n",
              "      <th>110</th>\n",
              "      <td>441.0</td>\n",
              "      <td>128.0</td>\n",
              "      <td>16.0</td>\n",
              "      <td>70.0</td>\n",
              "      <td>73.0</td>\n",
              "      <td>80.0</td>\n",
              "      <td>14.0</td>\n",
              "      <td>6675.0</td>\n",
              "      <td>2095.0</td>\n",
              "      <td>209.0</td>\n",
              "      <td>1072.0</td>\n",
              "      <td>1050.0</td>\n",
              "      <td>695.0</td>\n",
              "      <td>97.0</td>\n",
              "      <td>218.0</td>\n",
              "      <td>16.0</td>\n",
              "      <td>1500.000</td>\n",
              "      <td>0</td>\n",
              "      <td>1</td>\n",
              "      <td>0</td>\n",
              "    </tr>\n",
              "    <tr>\n",
              "      <th>164</th>\n",
              "      <td>257.0</td>\n",
              "      <td>66.0</td>\n",
              "      <td>5.0</td>\n",
              "      <td>31.0</td>\n",
              "      <td>26.0</td>\n",
              "      <td>32.0</td>\n",
              "      <td>14.0</td>\n",
              "      <td>3910.0</td>\n",
              "      <td>979.0</td>\n",
              "      <td>33.0</td>\n",
              "      <td>518.0</td>\n",
              "      <td>324.0</td>\n",
              "      <td>382.0</td>\n",
              "      <td>87.0</td>\n",
              "      <td>166.0</td>\n",
              "      <td>14.0</td>\n",
              "      <td>250.000</td>\n",
              "      <td>1</td>\n",
              "      <td>1</td>\n",
              "      <td>0</td>\n",
              "    </tr>\n",
              "  </tbody>\n",
              "</table>\n",
              "</div>\n",
              "      <button class=\"colab-df-convert\" onclick=\"convertToInteractive('df-386f5772-8525-4034-87d2-b73a2186d1d9')\"\n",
              "              title=\"Convert this dataframe to an interactive table.\"\n",
              "              style=\"display:none;\">\n",
              "        \n",
              "  <svg xmlns=\"http://www.w3.org/2000/svg\" height=\"24px\"viewBox=\"0 0 24 24\"\n",
              "       width=\"24px\">\n",
              "    <path d=\"M0 0h24v24H0V0z\" fill=\"none\"/>\n",
              "    <path d=\"M18.56 5.44l.94 2.06.94-2.06 2.06-.94-2.06-.94-.94-2.06-.94 2.06-2.06.94zm-11 1L8.5 8.5l.94-2.06 2.06-.94-2.06-.94L8.5 2.5l-.94 2.06-2.06.94zm10 10l.94 2.06.94-2.06 2.06-.94-2.06-.94-.94-2.06-.94 2.06-2.06.94z\"/><path d=\"M17.41 7.96l-1.37-1.37c-.4-.4-.92-.59-1.43-.59-.52 0-1.04.2-1.43.59L10.3 9.45l-7.72 7.72c-.78.78-.78 2.05 0 2.83L4 21.41c.39.39.9.59 1.41.59.51 0 1.02-.2 1.41-.59l7.78-7.78 2.81-2.81c.8-.78.8-2.07 0-2.86zM5.41 20L4 18.59l7.72-7.72 1.47 1.35L5.41 20z\"/>\n",
              "  </svg>\n",
              "      </button>\n",
              "      \n",
              "  <style>\n",
              "    .colab-df-container {\n",
              "      display:flex;\n",
              "      flex-wrap:wrap;\n",
              "      gap: 12px;\n",
              "    }\n",
              "\n",
              "    .colab-df-convert {\n",
              "      background-color: #E8F0FE;\n",
              "      border: none;\n",
              "      border-radius: 50%;\n",
              "      cursor: pointer;\n",
              "      display: none;\n",
              "      fill: #1967D2;\n",
              "      height: 32px;\n",
              "      padding: 0 0 0 0;\n",
              "      width: 32px;\n",
              "    }\n",
              "\n",
              "    .colab-df-convert:hover {\n",
              "      background-color: #E2EBFA;\n",
              "      box-shadow: 0px 1px 2px rgba(60, 64, 67, 0.3), 0px 1px 3px 1px rgba(60, 64, 67, 0.15);\n",
              "      fill: #174EA6;\n",
              "    }\n",
              "\n",
              "    [theme=dark] .colab-df-convert {\n",
              "      background-color: #3B4455;\n",
              "      fill: #D2E3FC;\n",
              "    }\n",
              "\n",
              "    [theme=dark] .colab-df-convert:hover {\n",
              "      background-color: #434B5C;\n",
              "      box-shadow: 0px 1px 3px 1px rgba(0, 0, 0, 0.15);\n",
              "      filter: drop-shadow(0px 1px 2px rgba(0, 0, 0, 0.3));\n",
              "      fill: #FFFFFF;\n",
              "    }\n",
              "  </style>\n",
              "\n",
              "      <script>\n",
              "        const buttonEl =\n",
              "          document.querySelector('#df-386f5772-8525-4034-87d2-b73a2186d1d9 button.colab-df-convert');\n",
              "        buttonEl.style.display =\n",
              "          google.colab.kernel.accessAllowed ? 'block' : 'none';\n",
              "\n",
              "        async function convertToInteractive(key) {\n",
              "          const element = document.querySelector('#df-386f5772-8525-4034-87d2-b73a2186d1d9');\n",
              "          const dataTable =\n",
              "            await google.colab.kernel.invokeFunction('convertToInteractive',\n",
              "                                                     [key], {});\n",
              "          if (!dataTable) return;\n",
              "\n",
              "          const docLinkHtml = 'Like what you see? Visit the ' +\n",
              "            '<a target=\"_blank\" href=https://colab.research.google.com/notebooks/data_table.ipynb>data table notebook</a>'\n",
              "            + ' to learn more about interactive tables.';\n",
              "          element.innerHTML = '';\n",
              "          dataTable['output_type'] = 'display_data';\n",
              "          await google.colab.output.renderOutput(dataTable, element);\n",
              "          const docLink = document.createElement('div');\n",
              "          docLink.innerHTML = docLinkHtml;\n",
              "          element.appendChild(docLink);\n",
              "        }\n",
              "      </script>\n",
              "    </div>\n",
              "  </div>\n",
              "  "
            ]
          },
          "metadata": {},
          "execution_count": 3
        }
      ]
    },
    {
      "cell_type": "code",
      "source": [
        "#MODEL\n",
        "\n",
        "knn_model = KNeighborsRegressor()\n",
        "model = knn_model.fit(X_train,y_train)\n",
        "\n",
        "model.n_neighbors"
      ],
      "metadata": {
        "colab": {
          "base_uri": "https://localhost:8080/"
        },
        "id": "MCXlAnvIf7Za",
        "outputId": "e99115dd-9984-45b2-c3b6-e8e2ad883de1"
      },
      "execution_count": 4,
      "outputs": [
        {
          "output_type": "execute_result",
          "data": {
            "text/plain": [
              "5"
            ]
          },
          "metadata": {},
          "execution_count": 4
        }
      ]
    },
    {
      "cell_type": "code",
      "source": [
        "model.metric"
      ],
      "metadata": {
        "colab": {
          "base_uri": "https://localhost:8080/",
          "height": 36
        },
        "id": "d47f92O-gERa",
        "outputId": "49126fff-6da0-46da-f6c2-5c9003d17e78"
      },
      "execution_count": 5,
      "outputs": [
        {
          "output_type": "execute_result",
          "data": {
            "text/plain": [
              "'minkowski'"
            ],
            "application/vnd.google.colaboratory.intrinsic+json": {
              "type": "string"
            }
          },
          "metadata": {},
          "execution_count": 5
        }
      ]
    },
    {
      "cell_type": "code",
      "source": [
        "dir(model)"
      ],
      "metadata": {
        "colab": {
          "base_uri": "https://localhost:8080/"
        },
        "id": "iFMDjH4ugi9B",
        "outputId": "e6fa2df0-b414-4e64-a726-ff5c5c7d3bb5"
      },
      "execution_count": 6,
      "outputs": [
        {
          "output_type": "execute_result",
          "data": {
            "text/plain": [
              "['__abstractmethods__',\n",
              " '__annotations__',\n",
              " '__class__',\n",
              " '__delattr__',\n",
              " '__dict__',\n",
              " '__dir__',\n",
              " '__doc__',\n",
              " '__eq__',\n",
              " '__format__',\n",
              " '__ge__',\n",
              " '__getattribute__',\n",
              " '__getstate__',\n",
              " '__gt__',\n",
              " '__hash__',\n",
              " '__init__',\n",
              " '__init_subclass__',\n",
              " '__le__',\n",
              " '__lt__',\n",
              " '__module__',\n",
              " '__ne__',\n",
              " '__new__',\n",
              " '__reduce__',\n",
              " '__reduce_ex__',\n",
              " '__repr__',\n",
              " '__setattr__',\n",
              " '__setstate__',\n",
              " '__sizeof__',\n",
              " '__str__',\n",
              " '__subclasshook__',\n",
              " '__weakref__',\n",
              " '_abc_impl',\n",
              " '_check_algorithm_metric',\n",
              " '_check_feature_names',\n",
              " '_check_n_features',\n",
              " '_estimator_type',\n",
              " '_fit',\n",
              " '_fit_X',\n",
              " '_fit_method',\n",
              " '_get_param_names',\n",
              " '_get_tags',\n",
              " '_kneighbors_reduce_func',\n",
              " '_more_tags',\n",
              " '_parameter_constraints',\n",
              " '_repr_html_',\n",
              " '_repr_html_inner',\n",
              " '_repr_mimebundle_',\n",
              " '_tree',\n",
              " '_validate_data',\n",
              " '_validate_params',\n",
              " '_y',\n",
              " 'algorithm',\n",
              " 'effective_metric_',\n",
              " 'effective_metric_params_',\n",
              " 'feature_names_in_',\n",
              " 'fit',\n",
              " 'get_params',\n",
              " 'kneighbors',\n",
              " 'kneighbors_graph',\n",
              " 'leaf_size',\n",
              " 'metric',\n",
              " 'metric_params',\n",
              " 'n_features_in_',\n",
              " 'n_jobs',\n",
              " 'n_neighbors',\n",
              " 'n_samples_fit_',\n",
              " 'p',\n",
              " 'predict',\n",
              " 'radius',\n",
              " 'score',\n",
              " 'set_params',\n",
              " 'weights']"
            ]
          },
          "metadata": {},
          "execution_count": 6
        }
      ]
    },
    {
      "cell_type": "code",
      "source": [
        "#Prediction\n",
        "\n",
        "y_pred=model.predict(X_test)"
      ],
      "metadata": {
        "id": "ldvesOsKgkws"
      },
      "execution_count": 7,
      "outputs": []
    },
    {
      "cell_type": "code",
      "source": [
        "np.sqrt(mean_squared_error(y_test,y_pred))"
      ],
      "metadata": {
        "colab": {
          "base_uri": "https://localhost:8080/"
        },
        "id": "VIOHY9JqhGkl",
        "outputId": "127c5671-46bf-485f-fd27-812503af4f7d"
      },
      "execution_count": 8,
      "outputs": [
        {
          "output_type": "execute_result",
          "data": {
            "text/plain": [
              "279.7128848364467"
            ]
          },
          "metadata": {},
          "execution_count": 8
        }
      ]
    },
    {
      "cell_type": "code",
      "source": [
        "pred_df=pd.DataFrame(y_pred,columns=[\"Predicted\"])\n",
        "pred_df[\"Actual\"] = y_test\n",
        "pred_df"
      ],
      "metadata": {
        "colab": {
          "base_uri": "https://localhost:8080/",
          "height": 423
        },
        "id": "wn0h1bkShUcE",
        "outputId": "737752d1-7ee0-483e-8ce5-33e77738b320"
      },
      "execution_count": 9,
      "outputs": [
        {
          "output_type": "execute_result",
          "data": {
            "text/plain": [
              "    Predicted  Actual\n",
              "0     98.5000     NaN\n",
              "1    636.6666     NaN\n",
              "2    191.0000   480.0\n",
              "3     97.5000     NaN\n",
              "4    684.3334     NaN\n",
              "..        ...     ...\n",
              "61   258.0000   275.0\n",
              "62   894.5000     NaN\n",
              "63   188.9000     NaN\n",
              "64   456.6668     NaN\n",
              "65   107.0000     NaN\n",
              "\n",
              "[66 rows x 2 columns]"
            ],
            "text/html": [
              "\n",
              "  <div id=\"df-866ebbce-c98b-4de0-a077-d9fbfa9fea8f\">\n",
              "    <div class=\"colab-df-container\">\n",
              "      <div>\n",
              "<style scoped>\n",
              "    .dataframe tbody tr th:only-of-type {\n",
              "        vertical-align: middle;\n",
              "    }\n",
              "\n",
              "    .dataframe tbody tr th {\n",
              "        vertical-align: top;\n",
              "    }\n",
              "\n",
              "    .dataframe thead th {\n",
              "        text-align: right;\n",
              "    }\n",
              "</style>\n",
              "<table border=\"1\" class=\"dataframe\">\n",
              "  <thead>\n",
              "    <tr style=\"text-align: right;\">\n",
              "      <th></th>\n",
              "      <th>Predicted</th>\n",
              "      <th>Actual</th>\n",
              "    </tr>\n",
              "  </thead>\n",
              "  <tbody>\n",
              "    <tr>\n",
              "      <th>0</th>\n",
              "      <td>98.5000</td>\n",
              "      <td>NaN</td>\n",
              "    </tr>\n",
              "    <tr>\n",
              "      <th>1</th>\n",
              "      <td>636.6666</td>\n",
              "      <td>NaN</td>\n",
              "    </tr>\n",
              "    <tr>\n",
              "      <th>2</th>\n",
              "      <td>191.0000</td>\n",
              "      <td>480.0</td>\n",
              "    </tr>\n",
              "    <tr>\n",
              "      <th>3</th>\n",
              "      <td>97.5000</td>\n",
              "      <td>NaN</td>\n",
              "    </tr>\n",
              "    <tr>\n",
              "      <th>4</th>\n",
              "      <td>684.3334</td>\n",
              "      <td>NaN</td>\n",
              "    </tr>\n",
              "    <tr>\n",
              "      <th>...</th>\n",
              "      <td>...</td>\n",
              "      <td>...</td>\n",
              "    </tr>\n",
              "    <tr>\n",
              "      <th>61</th>\n",
              "      <td>258.0000</td>\n",
              "      <td>275.0</td>\n",
              "    </tr>\n",
              "    <tr>\n",
              "      <th>62</th>\n",
              "      <td>894.5000</td>\n",
              "      <td>NaN</td>\n",
              "    </tr>\n",
              "    <tr>\n",
              "      <th>63</th>\n",
              "      <td>188.9000</td>\n",
              "      <td>NaN</td>\n",
              "    </tr>\n",
              "    <tr>\n",
              "      <th>64</th>\n",
              "      <td>456.6668</td>\n",
              "      <td>NaN</td>\n",
              "    </tr>\n",
              "    <tr>\n",
              "      <th>65</th>\n",
              "      <td>107.0000</td>\n",
              "      <td>NaN</td>\n",
              "    </tr>\n",
              "  </tbody>\n",
              "</table>\n",
              "<p>66 rows × 2 columns</p>\n",
              "</div>\n",
              "      <button class=\"colab-df-convert\" onclick=\"convertToInteractive('df-866ebbce-c98b-4de0-a077-d9fbfa9fea8f')\"\n",
              "              title=\"Convert this dataframe to an interactive table.\"\n",
              "              style=\"display:none;\">\n",
              "        \n",
              "  <svg xmlns=\"http://www.w3.org/2000/svg\" height=\"24px\"viewBox=\"0 0 24 24\"\n",
              "       width=\"24px\">\n",
              "    <path d=\"M0 0h24v24H0V0z\" fill=\"none\"/>\n",
              "    <path d=\"M18.56 5.44l.94 2.06.94-2.06 2.06-.94-2.06-.94-.94-2.06-.94 2.06-2.06.94zm-11 1L8.5 8.5l.94-2.06 2.06-.94-2.06-.94L8.5 2.5l-.94 2.06-2.06.94zm10 10l.94 2.06.94-2.06 2.06-.94-2.06-.94-.94-2.06-.94 2.06-2.06.94z\"/><path d=\"M17.41 7.96l-1.37-1.37c-.4-.4-.92-.59-1.43-.59-.52 0-1.04.2-1.43.59L10.3 9.45l-7.72 7.72c-.78.78-.78 2.05 0 2.83L4 21.41c.39.39.9.59 1.41.59.51 0 1.02-.2 1.41-.59l7.78-7.78 2.81-2.81c.8-.78.8-2.07 0-2.86zM5.41 20L4 18.59l7.72-7.72 1.47 1.35L5.41 20z\"/>\n",
              "  </svg>\n",
              "      </button>\n",
              "      \n",
              "  <style>\n",
              "    .colab-df-container {\n",
              "      display:flex;\n",
              "      flex-wrap:wrap;\n",
              "      gap: 12px;\n",
              "    }\n",
              "\n",
              "    .colab-df-convert {\n",
              "      background-color: #E8F0FE;\n",
              "      border: none;\n",
              "      border-radius: 50%;\n",
              "      cursor: pointer;\n",
              "      display: none;\n",
              "      fill: #1967D2;\n",
              "      height: 32px;\n",
              "      padding: 0 0 0 0;\n",
              "      width: 32px;\n",
              "    }\n",
              "\n",
              "    .colab-df-convert:hover {\n",
              "      background-color: #E2EBFA;\n",
              "      box-shadow: 0px 1px 2px rgba(60, 64, 67, 0.3), 0px 1px 3px 1px rgba(60, 64, 67, 0.15);\n",
              "      fill: #174EA6;\n",
              "    }\n",
              "\n",
              "    [theme=dark] .colab-df-convert {\n",
              "      background-color: #3B4455;\n",
              "      fill: #D2E3FC;\n",
              "    }\n",
              "\n",
              "    [theme=dark] .colab-df-convert:hover {\n",
              "      background-color: #434B5C;\n",
              "      box-shadow: 0px 1px 3px 1px rgba(0, 0, 0, 0.15);\n",
              "      filter: drop-shadow(0px 1px 2px rgba(0, 0, 0, 0.3));\n",
              "      fill: #FFFFFF;\n",
              "    }\n",
              "  </style>\n",
              "\n",
              "      <script>\n",
              "        const buttonEl =\n",
              "          document.querySelector('#df-866ebbce-c98b-4de0-a077-d9fbfa9fea8f button.colab-df-convert');\n",
              "        buttonEl.style.display =\n",
              "          google.colab.kernel.accessAllowed ? 'block' : 'none';\n",
              "\n",
              "        async function convertToInteractive(key) {\n",
              "          const element = document.querySelector('#df-866ebbce-c98b-4de0-a077-d9fbfa9fea8f');\n",
              "          const dataTable =\n",
              "            await google.colab.kernel.invokeFunction('convertToInteractive',\n",
              "                                                     [key], {});\n",
              "          if (!dataTable) return;\n",
              "\n",
              "          const docLinkHtml = 'Like what you see? Visit the ' +\n",
              "            '<a target=\"_blank\" href=https://colab.research.google.com/notebooks/data_table.ipynb>data table notebook</a>'\n",
              "            + ' to learn more about interactive tables.';\n",
              "          element.innerHTML = '';\n",
              "          dataTable['output_type'] = 'display_data';\n",
              "          await google.colab.output.renderOutput(dataTable, element);\n",
              "          const docLink = document.createElement('div');\n",
              "          docLink.innerHTML = docLinkHtml;\n",
              "          element.appendChild(docLink);\n",
              "        }\n",
              "      </script>\n",
              "    </div>\n",
              "  </div>\n",
              "  "
            ]
          },
          "metadata": {},
          "execution_count": 9
        }
      ]
    },
    {
      "cell_type": "code",
      "source": [
        "# MODEL TUNING\n",
        "dir(model)"
      ],
      "metadata": {
        "colab": {
          "base_uri": "https://localhost:8080/"
        },
        "id": "wRublARfhtc1",
        "outputId": "718a040d-1836-46f2-f1cd-d36d003e5b7e"
      },
      "execution_count": 10,
      "outputs": [
        {
          "output_type": "execute_result",
          "data": {
            "text/plain": [
              "['__abstractmethods__',\n",
              " '__annotations__',\n",
              " '__class__',\n",
              " '__delattr__',\n",
              " '__dict__',\n",
              " '__dir__',\n",
              " '__doc__',\n",
              " '__eq__',\n",
              " '__format__',\n",
              " '__ge__',\n",
              " '__getattribute__',\n",
              " '__getstate__',\n",
              " '__gt__',\n",
              " '__hash__',\n",
              " '__init__',\n",
              " '__init_subclass__',\n",
              " '__le__',\n",
              " '__lt__',\n",
              " '__module__',\n",
              " '__ne__',\n",
              " '__new__',\n",
              " '__reduce__',\n",
              " '__reduce_ex__',\n",
              " '__repr__',\n",
              " '__setattr__',\n",
              " '__setstate__',\n",
              " '__sizeof__',\n",
              " '__str__',\n",
              " '__subclasshook__',\n",
              " '__weakref__',\n",
              " '_abc_impl',\n",
              " '_check_algorithm_metric',\n",
              " '_check_feature_names',\n",
              " '_check_n_features',\n",
              " '_estimator_type',\n",
              " '_fit',\n",
              " '_fit_X',\n",
              " '_fit_method',\n",
              " '_get_param_names',\n",
              " '_get_tags',\n",
              " '_kneighbors_reduce_func',\n",
              " '_more_tags',\n",
              " '_parameter_constraints',\n",
              " '_repr_html_',\n",
              " '_repr_html_inner',\n",
              " '_repr_mimebundle_',\n",
              " '_tree',\n",
              " '_validate_data',\n",
              " '_validate_params',\n",
              " '_y',\n",
              " 'algorithm',\n",
              " 'effective_metric_',\n",
              " 'effective_metric_params_',\n",
              " 'feature_names_in_',\n",
              " 'fit',\n",
              " 'get_params',\n",
              " 'kneighbors',\n",
              " 'kneighbors_graph',\n",
              " 'leaf_size',\n",
              " 'metric',\n",
              " 'metric_params',\n",
              " 'n_features_in_',\n",
              " 'n_jobs',\n",
              " 'n_neighbors',\n",
              " 'n_samples_fit_',\n",
              " 'p',\n",
              " 'predict',\n",
              " 'radius',\n",
              " 'score',\n",
              " 'set_params',\n",
              " 'weights']"
            ]
          },
          "metadata": {},
          "execution_count": 10
        }
      ]
    },
    {
      "cell_type": "code",
      "source": [
        "\n",
        "\n",
        "RMSE = []\n",
        "\n",
        "for k in range(10):\n",
        "  k +=1\n",
        "  model = KNeighborsRegressor(n_neighbors=k).fit(X_train,y_train)\n",
        "  y_pred = model.predict(X_test)\n",
        "  rmse = np.sqrt(mean_squared_error(y_pred,y_test))\n",
        "  RMSE.append(rmse)\n",
        "  print(f\"neighbor number :{k} ---- RMSE for {k} neighbor number:{rmse}\")\n",
        "\n"
      ],
      "metadata": {
        "colab": {
          "base_uri": "https://localhost:8080/"
        },
        "id": "BvaWZS_MkAYB",
        "outputId": "c07b0a2d-c9a2-4c9e-d984-78cb6ec4f3f8"
      },
      "execution_count": 12,
      "outputs": [
        {
          "output_type": "stream",
          "name": "stdout",
          "text": [
            "neighbor number :1 ---- RMSE for 1 neighbor number:217.09766950384335\n",
            "neighbor number :2 ---- RMSE for 2 neighbor number:245.02602992529336\n",
            "neighbor number :3 ---- RMSE for 3 neighbor number:260.25392575434955\n",
            "neighbor number :4 ---- RMSE for 4 neighbor number:272.4214607100577\n",
            "neighbor number :5 ---- RMSE for 5 neighbor number:279.7128848364467\n",
            "neighbor number :6 ---- RMSE for 6 neighbor number:285.2362846772276\n",
            "neighbor number :7 ---- RMSE for 7 neighbor number:295.2993243197654\n",
            "neighbor number :8 ---- RMSE for 8 neighbor number:305.3263377179035\n",
            "neighbor number :9 ---- RMSE for 9 neighbor number:316.1845276606918\n",
            "neighbor number :10 ---- RMSE for 10 neighbor number:324.62479245137854\n"
          ]
        }
      ]
    },
    {
      "cell_type": "code",
      "source": [
        "# KNN by sklearn\n",
        "\n",
        "knn_params = {\"n_neighbors\":np.arange(1,30,1)}\n",
        "knn= KNeighborsRegressor()\n",
        "model = GridSearchCV(knn, knn_params, cv=10).fit(X_train,y_train)\n",
        "\n",
        "model.best_params_ #We found the best parameters"
      ],
      "metadata": {
        "colab": {
          "base_uri": "https://localhost:8080/"
        },
        "id": "CN_8XbW8krPU",
        "outputId": "37a5f7cc-5f64-4046-bebd-d9becf2a6fd1"
      },
      "execution_count": 16,
      "outputs": [
        {
          "output_type": "execute_result",
          "data": {
            "text/plain": [
              "{'n_neighbors': 1}"
            ]
          },
          "metadata": {},
          "execution_count": 16
        }
      ]
    },
    {
      "cell_type": "code",
      "source": [
        "knn_tuned = KNeighborsRegressor(n_neighbors=model.best_params_[\"n_neighbors\"],).fit(X_train,y_train)\n",
        "y_pred = knn_tuned.predict(X_test)\n",
        "mse=np.sqrt(mean_squared_error(y_pred,y_test))\n",
        "mse"
      ],
      "metadata": {
        "colab": {
          "base_uri": "https://localhost:8080/"
        },
        "id": "vBeaqHu7lqMX",
        "outputId": "3b8145e8-779a-4594-9251-ab068029e808"
      },
      "execution_count": 19,
      "outputs": [
        {
          "output_type": "execute_result",
          "data": {
            "text/plain": [
              "217.09766950384335"
            ]
          },
          "metadata": {},
          "execution_count": 19
        }
      ]
    },
    {
      "cell_type": "code",
      "source": [],
      "metadata": {
        "id": "6zH4Iy0vmcSb"
      },
      "execution_count": null,
      "outputs": []
    }
  ]
}