{
  "nbformat": 4,
  "nbformat_minor": 0,
  "metadata": {
    "colab": {
      "provenance": []
    },
    "kernelspec": {
      "name": "python3",
      "display_name": "Python 3"
    },
    "language_info": {
      "name": "python"
    }
  },
  "cells": [
    {
      "cell_type": "markdown",
      "source": [
        "**SUPPORT VECTOR REGRESSION**"
      ],
      "metadata": {
        "id": "j-CxMxk3r-Os"
      }
    },
    {
      "cell_type": "code",
      "execution_count": 1,
      "metadata": {
        "id": "cm0W-24knCi1"
      },
      "outputs": [],
      "source": [
        "import pandas as pd\n",
        "import numpy as np\n",
        "\n",
        "from sklearn.model_selection import train_test_split, GridSearchCV\n",
        "from sklearn.metrics import mean_squared_error, r2_score\n",
        "import matplotlib.pyplot as plt\n",
        "from sklearn.preprocessing import scale\n",
        "from sklearn.preprocessing import StandardScaler\n",
        "from sklearn import model_selection\n",
        "from sklearn.neighbors import KNeighborsRegressor\n",
        "from sklearn.neural_network import MLPRegressor\n",
        "from sklearn import neighbors\n",
        "from sklearn.svm import SVR\n",
        "\n",
        "from warnings import filterwarnings\n",
        "filterwarnings(\"ignore\")\n",
        "\n"
      ]
    },
    {
      "cell_type": "code",
      "source": [
        "df = pd.read_csv(\"/content/Hitters.csv\")\n",
        "df = df.dropna()\n",
        "dms = pd.get_dummies(df[[\"League\",\"Division\",\"NewLeague\"]])\n",
        "y = df[\"Salary\"]\n",
        "X_ = df.drop([\"Salary\",\"League\",\"Division\",\"NewLeague\"],axis=1).astype(\"float64\")\n",
        "X  = pd.concat([X_, dms[[\"League_N\",\"Division_W\",\"NewLeague_N\"]]],axis=1)\n",
        "X_train,X_test,y_train,y_test=train_test_split(X,y,test_size=0.25,random_state=50)"
      ],
      "metadata": {
        "id": "xDbpgYNVsDRg"
      },
      "execution_count": 2,
      "outputs": []
    },
    {
      "cell_type": "code",
      "source": [
        "#Model & Prediction\n",
        "\n",
        "#kernel:rbf \n",
        "svr_model = SVR(kernel=\"rbf\").fit(X_train,y_train) #rbf: radial basis function= we use this when we dont have prior knowloedge about the data\n",
        "svr_model.predict(X_test)[0:5]"
      ],
      "metadata": {
        "colab": {
          "base_uri": "https://localhost:8080/"
        },
        "id": "YBJOfkjqtIiV",
        "outputId": "7f6bcf25-ebd2-4985-ac4c-b7ebf42df168"
      },
      "execution_count": 3,
      "outputs": [
        {
          "output_type": "execute_result",
          "data": {
            "text/plain": [
              "array([385.26044779, 447.55101146, 391.70134691, 386.87174215,\n",
              "       436.21431318])"
            ]
          },
          "metadata": {},
          "execution_count": 3
        }
      ]
    },
    {
      "cell_type": "code",
      "source": [
        "svr_model.intercept_"
      ],
      "metadata": {
        "colab": {
          "base_uri": "https://localhost:8080/"
        },
        "id": "yIQl6f_Rt0K_",
        "outputId": "65aa748a-69b1-423e-ebcf-f64b091b8436"
      },
      "execution_count": 4,
      "outputs": [
        {
          "output_type": "execute_result",
          "data": {
            "text/plain": [
              "array([421.15330855])"
            ]
          },
          "metadata": {},
          "execution_count": 4
        }
      ]
    },
    {
      "cell_type": "code",
      "source": [
        "y_pred = svr_model.predict(X_test)\n",
        "rmse= np.sqrt(mean_squared_error(y_pred,y_test))\n",
        "rmse"
      ],
      "metadata": {
        "colab": {
          "base_uri": "https://localhost:8080/"
        },
        "id": "VVDjeCLc72X4",
        "outputId": "4d67119d-f529-47a3-b92a-87ee08046bb3"
      },
      "execution_count": 5,
      "outputs": [
        {
          "output_type": "execute_result",
          "data": {
            "text/plain": [
              "549.9065470662332"
            ]
          },
          "metadata": {},
          "execution_count": 5
        }
      ]
    },
    {
      "cell_type": "code",
      "source": [
        "# kernel:\"linear\" (for linear regressions)\n",
        "svr_model = SVR(kernel=\"linear\").fit(X_train,y_train) #rbf: radial basis function= we use this when we dont have prior knowloedge about the data\n",
        "svr_model.predict(X_test)[0:5]\n",
        "\n",
        "print(svr_model.intercept_)\n",
        "print(svr_model.coef_)"
      ],
      "metadata": {
        "colab": {
          "base_uri": "https://localhost:8080/"
        },
        "id": "VkbE9jWD7Opa",
        "outputId": "9dd80587-fc22-4452-a961-6499c53de116"
      },
      "execution_count": 6,
      "outputs": [
        {
          "output_type": "stream",
          "name": "stdout",
          "text": [
            "[-16.25106095]\n",
            "[[ -1.44276485   6.18811817  -2.16314929  -2.86255843   1.67027327\n",
            "    4.56406824  10.44605183  -0.12547158  -0.04013086  -0.29079857\n",
            "    1.82387496   0.2052123   -0.92138004   0.57055726   0.04759365\n",
            "   -0.94760535   5.77156898 -17.40308583   6.77156898]]\n"
          ]
        }
      ]
    },
    {
      "cell_type": "code",
      "source": [
        "y_pred = svr_model.predict(X_test)\n",
        "rmse= np.sqrt(mean_squared_error(y_pred,y_test))"
      ],
      "metadata": {
        "id": "GktueaiZ7QO4"
      },
      "execution_count": 7,
      "outputs": []
    },
    {
      "cell_type": "code",
      "source": [
        "rmse"
      ],
      "metadata": {
        "colab": {
          "base_uri": "https://localhost:8080/"
        },
        "id": "pGeh12v67vU6",
        "outputId": "75058df8-84ef-4bfd-875f-9eb5192fddf8"
      },
      "execution_count": 8,
      "outputs": [
        {
          "output_type": "execute_result",
          "data": {
            "text/plain": [
              "373.7244551677321"
            ]
          },
          "metadata": {},
          "execution_count": 8
        }
      ]
    },
    {
      "cell_type": "code",
      "source": [
        " # We can say that \"linear\" kernel is much more effective for this dataset."
      ],
      "metadata": {
        "id": "BCdtadST7wBY"
      },
      "execution_count": 9,
      "outputs": []
    },
    {
      "cell_type": "markdown",
      "source": [
        "**Model Tuning**"
      ],
      "metadata": {
        "id": "BpfNE1at8BcG"
      }
    },
    {
      "cell_type": "code",
      "source": [
        "svr_params={\"C\":[0.1,0.5,1.3]}\n",
        "svr_cv_model=GridSearchCV(svr_model,svr_params,cv=5,verbose=2,n_jobs=-1).fit(X_train,y_train) \n",
        "#verbose=2 allows to display processes. \n",
        "#njobs=-1 allows to increase usage of processor so the operation will be completed quicker"
      ],
      "metadata": {
        "colab": {
          "base_uri": "https://localhost:8080/"
        },
        "id": "GQSRatIX8DAm",
        "outputId": "3fe42be6-7864-4af1-8590-a48d609d45bf"
      },
      "execution_count": 10,
      "outputs": [
        {
          "output_type": "stream",
          "name": "stdout",
          "text": [
            "Fitting 5 folds for each of 3 candidates, totalling 15 fits\n"
          ]
        }
      ]
    },
    {
      "cell_type": "code",
      "source": [
        "svr_cv_model.best_params_"
      ],
      "metadata": {
        "colab": {
          "base_uri": "https://localhost:8080/"
        },
        "id": "lIPRL7-j8ft_",
        "outputId": "effedbe6-5d0c-4062-8576-8e234125788d"
      },
      "execution_count": 11,
      "outputs": [
        {
          "output_type": "execute_result",
          "data": {
            "text/plain": [
              "{'C': 1.3}"
            ]
          },
          "metadata": {},
          "execution_count": 11
        }
      ]
    },
    {
      "cell_type": "code",
      "source": [
        "svr_tuned = SVR(kernel=\"linear\",C= 1.3).fit(X_train,y_train)\n",
        "y_pred = svr_tuned.predict(X_test)\n",
        "rmse = np.sqrt(mean_squared_error(y_pred,y_test))\n",
        "rmse "
      ],
      "metadata": {
        "colab": {
          "base_uri": "https://localhost:8080/"
        },
        "id": "V-Y8NoPG8h7Z",
        "outputId": "0c0d7c0e-29b6-4ac8-b9cb-870af8fe2967"
      },
      "execution_count": 12,
      "outputs": [
        {
          "output_type": "execute_result",
          "data": {
            "text/plain": [
              "372.0053309796307"
            ]
          },
          "metadata": {},
          "execution_count": 12
        }
      ]
    },
    {
      "cell_type": "code",
      "source": [],
      "metadata": {
        "id": "CaB39OQd9nGo"
      },
      "execution_count": 12,
      "outputs": []
    }
  ]
}